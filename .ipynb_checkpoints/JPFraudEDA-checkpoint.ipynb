{
 "cells": [
  {
   "cell_type": "markdown",
   "id": "4629ea60-2793-4e4c-8d13-34782567c556",
   "metadata": {},
   "source": [
    "<font size=5> This document includes or references data provided by J.P. Morgan. </font>"
   ]
  },
  {
   "cell_type": "code",
   "execution_count": null,
   "id": "eccdb97a-bdb8-4c7a-b17f-22cc80b8c238",
   "metadata": {},
   "outputs": [],
   "source": [
    "import pandas as pd\n",
    "import numpy as np\n",
    "import seaborn as sns\n",
    "import matplotlib.pyplot as plt\n",
    "import datetime as dt\n",
    "import csv\n",
    "import time"
   ]
  },
  {
   "cell_type": "code",
   "execution_count": null,
   "id": "94f31dfe-91bc-4182-ac40-6f9ed755eebf",
   "metadata": {},
   "outputs": [],
   "source": [
    "JPfraud_full = pd.read_csv(\"data/fraud_payment_data\")\n",
    "JPfraud_full"
   ]
  },
  {
   "cell_type": "code",
   "execution_count": null,
   "id": "884dfdd5-df54-400c-8d39-f3bc105b14c4",
   "metadata": {},
   "outputs": [],
   "source": [
    "JPfraud_full = JPfraud_full.drop(labels=['Sender_Sector','Sender_lob'],axis=1)\n",
    "JPfraud_full['Time_step'] = pd.to_datetime(JPfraud_full['Time_step'],format='%Y-%m-%d %H:%M:%S')\n",
    "JPfraud_full"
   ]
  },
  {
   "cell_type": "code",
   "execution_count": null,
   "id": "5af84343-a610-41c3-87fe-dad04b4b1f7a",
   "metadata": {},
   "outputs": [],
   "source": [
    "type(JPfraud_full.Time_step.iloc[12345])"
   ]
  },
  {
   "cell_type": "code",
   "execution_count": null,
   "id": "638d8dcc-c812-4e9d-ad17-8f8b4af9d19e",
   "metadata": {},
   "outputs": [],
   "source": [
    "JPfraud_full.Time_step.mean()"
   ]
  },
  {
   "cell_type": "code",
   "execution_count": null,
   "id": "0bc0d278-a1ab-44da-acc1-fbe88a5dec16",
   "metadata": {
    "scrolled": true
   },
   "outputs": [],
   "source": [
    "JPfraud = JPfraud_full[:500000]\n",
    "JPfraud"
   ]
  },
  {
   "cell_type": "code",
   "execution_count": null,
   "id": "fc103bb1-1137-4c6d-835e-ea69a410b4dd",
   "metadata": {},
   "outputs": [],
   "source": [
    "JPfraud.Transaction_Type.value_counts()"
   ]
  },
  {
   "cell_type": "code",
   "execution_count": null,
   "id": "c8f16b52-0299-4ab9-81b5-4b4e5d5c0040",
   "metadata": {},
   "outputs": [],
   "source": [
    "JPfraud.Label.value_counts(normalize=True)"
   ]
  },
  {
   "cell_type": "code",
   "execution_count": null,
   "id": "dd0e6cb2-5b53-4912-80a6-f6953885c87b",
   "metadata": {},
   "outputs": [],
   "source": [
    "print(JPfraud.Sender_Id.value_counts())\n",
    "print()\n",
    "print(JPfraud.Bene_Id.value_counts())"
   ]
  },
  {
   "cell_type": "code",
   "execution_count": null,
   "id": "c2e6cc2c-67b7-4585-964c-be8c3fe1a3c5",
   "metadata": {},
   "outputs": [],
   "source": [
    "# Do unique accounts have multiple Sender or Beneficiary countries?\n",
    "sender_pairs = JPfraud[['Sender_Id','Sender_Country']].dropna().drop_duplicates()\n",
    "sender_pairs.sort_values(by='Sender_Id',inplace=True,ascending=True)\n",
    "sender_pairs = sender_pairs.reset_index(drop=True)\n",
    "sender_pairs"
   ]
  },
  {
   "cell_type": "code",
   "execution_count": null,
   "id": "a7eef70e-94ab-4139-acfe-19af742fb9b3",
   "metadata": {
    "scrolled": true
   },
   "outputs": [],
   "source": [
    "sender_pairs[sender_pairs.duplicated(subset='Sender_Id',keep=False)]"
   ]
  },
  {
   "cell_type": "code",
   "execution_count": null,
   "id": "40328438-8469-4911-b737-a2ab5f46a02d",
   "metadata": {},
   "outputs": [],
   "source": [
    "len(JPfraud.Transaction_Id.unique())"
   ]
  },
  {
   "cell_type": "markdown",
   "id": "7f6124d2-2b21-4a42-92db-a66da763d24a",
   "metadata": {},
   "source": [
    "<font size=8>Checking for which transactions have NaNs </font>"
   ]
  },
  {
   "cell_type": "code",
   "execution_count": null,
   "id": "ce582ebf-b34c-4273-95e3-96631e32635d",
   "metadata": {},
   "outputs": [],
   "source": [
    "JPfraud.info()"
   ]
  },
  {
   "cell_type": "code",
   "execution_count": null,
   "id": "90c75aa8-0ee2-41f2-a5b1-8559d8c04ba4",
   "metadata": {},
   "outputs": [],
   "source": [
    "JPfraud.isna().sum()"
   ]
  },
  {
   "cell_type": "code",
   "execution_count": null,
   "id": "1332e074-c622-497b-8f6e-c700d6249952",
   "metadata": {},
   "outputs": [],
   "source": [
    "# Indicating only depositing transactions have NaN's for Sender_Id\n",
    "JPfraud[((JPfraud.Sender_Id.isnull()) & ~((JPfraud.Transaction_Type == 'DEPOSIT-CASH') |\n",
    "                                             (JPfraud.Transaction_Type == 'DEPOSIT-CHECK')))]"
   ]
  },
  {
   "cell_type": "code",
   "execution_count": null,
   "id": "54f44166-0df0-4271-a160-bb94d4990c84",
   "metadata": {},
   "outputs": [],
   "source": [
    "print('Number of DEPOSIT-CASH, DEPOSIT-CHECK transactions', len(JPfraud[((JPfraud.Transaction_Type == 'DEPOSIT-CASH') |\n",
    "                                             (JPfraud.Transaction_Type == 'DEPOSIT-CHECK'))]))\n",
    "print('Number of NaNs in Sender_Id for DEPOSIT-CASH, DEPOSIT-CHECK transactions', len(JPfraud[((JPfraud.Sender_Id.isna()) & ((JPfraud.Transaction_Type == 'DEPOSIT-CASH') |\n",
    "                                             (JPfraud.Transaction_Type == 'DEPOSIT-CHECK')))]))"
   ]
  },
  {
   "cell_type": "code",
   "execution_count": null,
   "id": "a8568edd-86fa-42f8-a08a-9cd5da7b97ad",
   "metadata": {},
   "outputs": [],
   "source": [
    "print('Number of WITHDRAWAL, EXCHANGE transactions', len(JPfraud[((JPfraud.Transaction_Type == 'WITHDRAWAL') |\n",
    "                                             (JPfraud.Transaction_Type == 'EXCHANGE'))]))\n",
    "print('Number of nulls in Bene_Id for WITHDRAWAL, EXCHANGE transactions', len(JPfraud[((JPfraud.Bene_Id.isnull()) &\n",
    "                                                                                            ((JPfraud.Transaction_Type == 'WITHDRAWAL') |\n",
    "                                                                                             (JPfraud.Transaction_Type == 'EXCHANGE')))]))"
   ]
  },
  {
   "cell_type": "markdown",
   "id": "503fb91a-8eec-41d4-abe0-71d699ccc609",
   "metadata": {},
   "source": [
    "<font size=4> **Conclusion:** *There's not any \"missing data.\" Deposits (DEPOSIT-CASH, DEPOSIT-CHECK) only have Beneficiary account identifications, and withdrawals/exchanges only have Sender account identifications.*</font>"
   ]
  },
  {
   "cell_type": "markdown",
   "id": "ee24c0b0-90a2-49a8-af0c-1bfc908314e7",
   "metadata": {},
   "source": [
    "<font size=6> Comparing transaction amount and number of fraudulent transactions detected </font>"
   ]
  },
  {
   "cell_type": "code",
   "execution_count": null,
   "id": "cf86f05b-6697-4088-abc7-6cd932c97a84",
   "metadata": {},
   "outputs": [],
   "source": [
    "trans_types = JPfraud.Transaction_Type.unique()\n",
    "fraud_number = np.zeros(len(trans_types))\n",
    "\n",
    "for i, trans in enumerate(trans_types):\n",
    "    fraud_number[i] = JPfraud.loc[JPfraud.Transaction_Type == trans].Label.sum()"
   ]
  },
  {
   "cell_type": "code",
   "execution_count": null,
   "id": "f608060d-b9a8-47e5-a0d0-37d2839ce094",
   "metadata": {},
   "outputs": [],
   "source": [
    "plt.figure()\n",
    "\n",
    "plt.bar(trans_types, fraud_number)\n",
    "plt.xlabel('Transaction Types',fontsize=14)\n",
    "plt.ylabel('Number of fraud transactions',fontsize=10)\n",
    "plt.xticks(np.arange(len(trans_types)),trans_types,rotation=75)\n",
    "\n",
    "plt.show()"
   ]
  },
  {
   "cell_type": "code",
   "execution_count": null,
   "id": "93a863cb-83be-4412-bdb0-4fcabdb50903",
   "metadata": {},
   "outputs": [],
   "source": [
    "print('Max USD amount:', JPfraud.USD_amount.max())\n",
    "print('Min USD amount:', JPfraud.USD_amount.min())"
   ]
  },
  {
   "cell_type": "code",
   "execution_count": null,
   "id": "ebb308c0-ef6f-4ce0-9610-87150e61d1fd",
   "metadata": {},
   "outputs": [],
   "source": [
    "JPfraud.loc[JPfraud.Label == 1].USD_amount.describe()"
   ]
  },
  {
   "cell_type": "code",
   "execution_count": null,
   "id": "02e28d7e-725c-4286-bcef-3a18294b4a4e",
   "metadata": {},
   "outputs": [],
   "source": [
    "JPfraud.loc[JPfraud.Label == 0].USD_amount.describe()"
   ]
  },
  {
   "cell_type": "code",
   "execution_count": null,
   "id": "dea6ba27-30a2-4938-ad8b-92fdb875695e",
   "metadata": {},
   "outputs": [],
   "source": [
    "bin_labels = []\n",
    "for i in np.arange(40):\n",
    "    bin_labels.append(str(i*500) + '-' + str(i*500 + 500))\n",
    "\n",
    "print(bin_labels)\n",
    "print()\n",
    "print(len(bin_labels))"
   ]
  },
  {
   "cell_type": "code",
   "execution_count": null,
   "id": "8594ecf0-0075-4dfc-8c5e-405d05912fc8",
   "metadata": {},
   "outputs": [],
   "source": [
    "JPfraud_label1 = JPfraud[JPfraud.Label == 1].reset_index(drop=True,inplace=False)\n",
    "JPfraud_label1['amount_range'] = pd.cut(JPfraud_label1['USD_amount'],np.linspace(0,20000,41), labels=bin_labels)\n",
    "JPfraud_label1"
   ]
  },
  {
   "cell_type": "code",
   "execution_count": null,
   "id": "4e47a973-4c6a-4e7c-b6e9-2a38c4b76b0f",
   "metadata": {},
   "outputs": [],
   "source": [
    "amount_counts = np.zeros(len(bin_labels))\n",
    "\n",
    "for i, amount in enumerate(bin_labels):\n",
    "    amount_counts[i] = JPfraud_label1.amount_range.isin([amount]).sum()\n",
    "\n",
    "amount_counts"
   ]
  },
  {
   "cell_type": "code",
   "execution_count": null,
   "id": "8bca3b25-9235-4941-8997-8f1c5840ecca",
   "metadata": {},
   "outputs": [],
   "source": [
    "plt.figure(figsize=(10,10))\n",
    "plt.bar(bin_labels,amount_counts)\n",
    "plt.xticks(np.arange(len(bin_labels)),bin_labels,rotation=75)\n",
    "plt.show()"
   ]
  },
  {
   "cell_type": "code",
   "execution_count": null,
   "id": "c05dc220-1ba0-4822-9536-75fa9b3af78f",
   "metadata": {},
   "outputs": [],
   "source": [
    "plt.figure()\n",
    "plt.scatter(JPfraud.USD_amount,JPfraud.Label)\n",
    "plt.xlabel('Amount of transaction (U.S. Dollars)')\n",
    "#plt.ylabel('Not Fraud/Fraud')\n",
    "plt.show()"
   ]
  },
  {
   "cell_type": "code",
   "execution_count": null,
   "id": "e4925f25-3faa-437d-b304-10b5d7dfcebc",
   "metadata": {},
   "outputs": [],
   "source": [
    "trans_type = JPfraud.Transaction_Type.unique()\n",
    "\n",
    "for trans in trans_type:\n",
    "    plt.figure()\n",
    "    plt.scatter(JPfraud.loc[JPfraud.Transaction_Type == trans].USD_amount,JPfraud.loc[JPfraud.Transaction_Type == trans].Label,s=5,color='black',marker='o')\n",
    "    #plt.ylabel('Not Fraud/Fraud')\n",
    "    plt.xlabel('Amount of transaction (U.S. Dollars)')\n",
    "    plt.yticks([0,1])\n",
    "    plt.title(trans + ' Transaction')\n",
    "    plt.show()"
   ]
  },
  {
   "cell_type": "markdown",
   "id": "ff46fd3c-859b-4f92-8003-478717dc87d3",
   "metadata": {},
   "source": [
    "<font size=6> Distribution of time </font>"
   ]
  },
  {
   "cell_type": "code",
   "execution_count": null,
   "id": "1bded655-3645-49a5-8bea-fa99b8c45857",
   "metadata": {},
   "outputs": [],
   "source": [
    "plt.figure()\n",
    "JPfraud_timeplot = JPfraud.sample(100000,random_state=12345)\n",
    "plt.scatter(JPfraud_timeplot.index,JPfraud_timeplot.Time_step,marker='o',facecolor='None',edgecolor='blue')\n",
    "plt.xlim([0,2000])\n",
    "plt.ylim([dt.datetime(2022,3,15,0,0,0),dt.datetime(2022,4,1,0,0,0)])\n",
    "plt.show()"
   ]
  },
  {
   "cell_type": "code",
   "execution_count": null,
   "id": "dc2aebc1-5704-4d58-9451-b4b591cd9724",
   "metadata": {},
   "outputs": [],
   "source": [
    "plt.figure()\n",
    "JPfraud_timeplot2 = JPfraud.sample(100000,random_state=12345)\n",
    "plt.scatter(JPfraud_timeplot2.index,JPfraud_timeplot2.Time_step,marker='o',facecolor='None',edgecolor='blue')\n",
    "plt.xlim([2300,4250])\n",
    "plt.ylim([dt.datetime(2022,3,30,0,0,0),dt.datetime(2022,4,17,0,0,0)])\n",
    "plt.show()"
   ]
  },
  {
   "cell_type": "code",
   "execution_count": null,
   "id": "50f0f3f3-a6f1-4d36-860b-39d6a200f63e",
   "metadata": {},
   "outputs": [],
   "source": [
    "JPfraud.Time_step.value_counts().head(40)"
   ]
  },
  {
   "cell_type": "markdown",
   "id": "eb19e982-5141-432b-ab20-e9aa1b4aafc1",
   "metadata": {},
   "source": [
    "<font size=6> Behavioral Features </font>\n",
    "\n",
    "**Goal:** Identify patterns from a client’s transaction history.\n",
    "\n",
    "Transaction Amount Patterns:\n",
    "<ul><li> Average transaction amount per client </li>\n",
    "<li> Deviations from typical amounts (outliers) </li>\n",
    "</ul>\n",
    "\n",
    "Transaction Timing Patterns:\n",
    "<ul>\n",
    " <li>  Unusual activity by local time (time zone outliers for the client) </li>\n",
    " <li> Time between consecutive transactions, </li>\n",
    " <li> Recipient Patterns: Number of unique recipients per sender (potential pattern for laundering) </li>\n",
    "</ul>"
   ]
  },
  {
   "cell_type": "markdown",
   "id": "e912ef7d-a9f9-4ba2-8e34-52cefd41702d",
   "metadata": {},
   "source": [
    "<font size=6> Attempting rolling 180-day stats</font>"
   ]
  },
  {
   "cell_type": "code",
   "execution_count": null,
   "id": "153a5552-3e8f-429e-8b53-040b46179e98",
   "metadata": {},
   "outputs": [],
   "source": [
    "# out_avg: expanding average, i.e. average up till time of transaction, of sender's transactions\n",
    "JPfraud['out_avg'] = JPfraud.set_index('Time_step').groupby('Sender_Account',sort=False)['USD_amount'].transform(\n",
    "    lambda x: x.expanding(method='single').mean().round(2)).reset_index(level=0,drop=True)\n",
    "\n",
    "# in_avg: expanding average, i.e. average up till time of transaction, of beneficiary's transactions\n",
    "JPfraud['in_avg'] = JPfraud.set_index('Time_step').groupby('Bene_Account',sort=False)['USD_amount'].transform(\n",
    "    lambda x: x.expanding(method='single').mean().round(2)).reset_index(level=0,drop=True)\n",
    "#JPfraud['rolling_sender_quant15'] = JPfraud.set_index('Time_step').groupby('Sender_Account',sort=False)['USD_amount'].transform(\n",
    "#    lambda x: x.expanding().quantile(q=0.15).round(2)).reset_index(level=0,drop=True)\n",
    "#JPfraud['rolling_sender_quant85'] = JPfraud.set_index('Time_step').groupby('Sender_Account',sort=False)['USD_amount'].transform(\n",
    "#    lambda x: x.rolling('180D').quantile(q=0.85).round(2)).reset_index(level=0,drop=True)\n",
    "#JPfraud['rolling_bene_avg'] = JPfraud.set_index('Time_step').groupby('Bene_Account',sort=False)['USD_amount'].transform(\n",
    "#    lambda x: x.rolling('180D').mean().round(2)).reset_index(level=0,drop=True)\n",
    "#JPfraud['rolling_bene_quant15'] = JPfraud.set_index('Time_step').groupby('Bene_Account',sort=False)['USD_amount'].transform(\n",
    "#    lambda x: x.rolling('180D').quantile(q=0.15).round(2)).reset_index(level=0,drop=True)\n",
    "#JPfraud['rolling_bene_quant85'] = JPfraud.set_index('Time_step').groupby('Bene_Account',sort=False)['USD_amount'].transform(\n",
    "#    lambda x: x.rolling('180D').quantile(q=0.85).round(2)).reset_index(level=0,drop=True)\n",
    "JPfraud"
   ]
  },
  {
   "cell_type": "code",
   "execution_count": null,
   "id": "4087a345-01ea-4073-82db-5b350082708c",
   "metadata": {},
   "outputs": [],
   "source": [
    "# Classifiers on whether in or outside quantile range\n",
    "#JPfraud = JPfraud.assign(out_sender_range = lambda x: ((x.USD_amount < x.rolling_sender_quant15) | (x.USD_amount > x.rolling_sender_quant85))*1)\n",
    "#JPfraud = JPfraud.assign(out_bene_range = lambda x: ((x.USD_amount < x.rolling_bene_quant15) | (x.USD_amount > x.rolling_bene_quant85))*1)\n",
    "#JPfraud"
   ]
  },
  {
   "cell_type": "code",
   "execution_count": null,
   "id": "90148be3-7c09-471f-beba-d12a49360667",
   "metadata": {
    "scrolled": true
   },
   "outputs": [],
   "source": [
    "# Time between transactions for unique accounts\n",
    "JPfraud['sender_time_btwn'] = JPfraud.groupby('Sender_Account')['Time_step'].diff()\n",
    "JPfraud['bene_time_btwn'] = JPfraud.groupby('Bene_Account')['Time_step'].diff()\n",
    "JPfraud"
   ]
  },
  {
   "cell_type": "code",
   "execution_count": null,
   "id": "4189c663-0230-49e5-a95a-df287d0ed6a7",
   "metadata": {
    "scrolled": true
   },
   "outputs": [],
   "source": [
    "# Testing that new features are computing correctly\n",
    "JPfraud[JPfraud.Sender_Account == 'ACCOUNT-9825'].head(25)"
   ]
  },
  {
   "cell_type": "markdown",
   "id": "5ac8a5b2-a633-46c1-9b1f-bdd6c53fe8e1",
   "metadata": {},
   "source": [
    "<font size=5> Issues/Questions:</font>\n",
    "<ol>\n",
    "    <li> For a new client, first few transactions will likely be outside of quartile ranges.\n",
    "         Maybe do not have quantile ranges until after first 90, 180 etc days? </li>\n",
    "    <li> Treat out_range classifiers differently for NaN's? </li>\n",
    "    <li> </li>\n",
    "</ol>"
   ]
  },
  {
   "cell_type": "code",
   "execution_count": null,
   "id": "b411d491-ec2e-4736-b66e-115574d4995e",
   "metadata": {},
   "outputs": [],
   "source": [
    "JPfraud.sender_time_btwn.describe()"
   ]
  },
  {
   "cell_type": "code",
   "execution_count": null,
   "id": "63e56ddc-f8e2-43c8-9805-203f3b8bdff2",
   "metadata": {},
   "outputs": [],
   "source": [
    "# Number of non-fraud, sender transactions vs time between transactions, hourly distribution\n",
    "JPfraud[JPfraud.Label == 0].set_index('sender_time_btwn').resample('1h').Label.count()"
   ]
  },
  {
   "cell_type": "code",
   "execution_count": null,
   "id": "1ede2086-1061-4723-bd4c-762df99809c1",
   "metadata": {},
   "outputs": [],
   "source": [
    "# Number of fraud, sender transactions vs time between transactions, hourly distribution\n",
    "JPfraud[JPfraud.Label == 1].set_index('sender_time_btwn').resample('1h').Label.count()"
   ]
  },
  {
   "cell_type": "code",
   "execution_count": null,
   "id": "0a4d72be-ce7f-4f96-8a60-3b5ad78d5a78",
   "metadata": {},
   "outputs": [],
   "source": [
    "# Number of fraud, sender transactions vs time between transactions, 5 minute-distribution\n",
    "JPfraud[JPfraud.Label == 1].set_index('sender_time_btwn').resample('5min').Label.count().head(25)\n",
    "# Note: shows data generated only on 10-minute increments"
   ]
  },
  {
   "cell_type": "code",
   "execution_count": null,
   "id": "344861f4-f126-48f2-9959-629d724f9aa3",
   "metadata": {},
   "outputs": [],
   "source": [
    "# Number of sender fraudulent transactions within 24 hours (inclusive) of a transaction\n",
    "JPfraud[((JPfraud.sender_time_btwn <= dt.timedelta(hours=14)) & (JPfraud.Label == 1))].Label.sum()"
   ]
  },
  {
   "cell_type": "code",
   "execution_count": null,
   "id": "69dab729-b65f-458b-9c94-331ec9f5f921",
   "metadata": {},
   "outputs": [],
   "source": [
    "# Number of sender fraudulent transactions outside the first 24 hours of a transaction\n",
    "JPfraud[((JPfraud.sender_time_btwn > dt.timedelta(hours=14)) & (JPfraud.Label == 1))].Label.sum()"
   ]
  },
  {
   "cell_type": "code",
   "execution_count": null,
   "id": "7c8890f6-0986-4263-a0bf-3875d6bf6201",
   "metadata": {},
   "outputs": [],
   "source": [
    "# Number of bene fraudulent transactions within 2 hours (inclusive) of a transaction\n",
    "JPfraud[((JPfraud.bene_time_btwn <= dt.timedelta(hours=48)) & (JPfraud.Label == 1))].Label.sum()"
   ]
  },
  {
   "cell_type": "code",
   "execution_count": null,
   "id": "4e8a2727-5093-4207-b66a-4c789e29daba",
   "metadata": {},
   "outputs": [],
   "source": [
    "# Number of bene fraudulent transactions outside first 2 hours (inclusive) of a transaction\n",
    "JPfraud[((JPfraud.bene_time_btwn > dt.timedelta(hours=48)) & (JPfraud.Label == 1))].Label.sum()"
   ]
  },
  {
   "cell_type": "code",
   "execution_count": null,
   "id": "75d1aac1-6be7-41ac-94fd-c04e29cce263",
   "metadata": {},
   "outputs": [],
   "source": [
    "# Number of sender fraudulent transactions outside the first 30 days after transaction\n",
    "JPfraud[((JPfraud.sender_time_btwn > dt.timedelta(days=30)) & (JPfraud.Label == 1))].Label.sum()"
   ]
  },
  {
   "cell_type": "code",
   "execution_count": null,
   "id": "2ec3cfec-10fa-430d-b572-deca42336857",
   "metadata": {},
   "outputs": [],
   "source": [
    "JPfraud[JPfraud.Label == 0].set_index('sender_time_btwn').resample('10min').Label.count().head(25)"
   ]
  },
  {
   "cell_type": "code",
   "execution_count": null,
   "id": "328580e2-a409-40aa-8c3d-342c86edd2c3",
   "metadata": {},
   "outputs": [],
   "source": [
    "JPfraud[JPfraud.Label == 1].set_index('sender_time_btwn').resample('10min').Label.count().head(30).plot(kind='bar')\n",
    "plt.title('Number of fraud vs time (1st 4 hrs) between consecutive transactions')\n",
    "plt.show()"
   ]
  },
  {
   "cell_type": "code",
   "execution_count": null,
   "id": "1c40731c-e499-48c1-8c28-bdc17a308108",
   "metadata": {},
   "outputs": [],
   "source": [
    "JPfraud[JPfraud.Label == 1].set_index('sender_time_btwn').resample('1D').Label.count()"
   ]
  },
  {
   "cell_type": "code",
   "execution_count": null,
   "id": "458583aa-1ef9-4daf-8c6c-5615352a6f2a",
   "metadata": {},
   "outputs": [],
   "source": [
    "JPfraud[JPfraud.Label == 0].set_index('sender_time_btwn').resample('1D').Label.count()"
   ]
  },
  {
   "cell_type": "code",
   "execution_count": null,
   "id": "e7ec6d4a-bfa9-4df2-b34a-c127792e8503",
   "metadata": {},
   "outputs": [],
   "source": [
    "JPfraud[JPfraud.Label == 0].set_index('sender_time_btwn').resample('10min').Label.count().head(25).plot(kind='bar')\n",
    "plt.title('Number non-fraud vs time (hours) btwn consecutive sender transaction')"
   ]
  },
  {
   "cell_type": "code",
   "execution_count": null,
   "id": "b64395f3-4448-4e6c-adc4-d375e8bfa306",
   "metadata": {},
   "outputs": [],
   "source": [
    "# Number of all transactions vs time (first 4 hours) between consecutive sender transactions\n",
    "JPfraud.set_index('sender_time_btwn').resample('10min').Label.count().head(25).plot(kind='bar')\n",
    "plt.title('Number all transactions vs time (1st 4 hours) btwn consecutive sender transaction')"
   ]
  },
  {
   "cell_type": "code",
   "execution_count": null,
   "id": "e2748b91-ec26-4d1b-a650-a5eb77fe2519",
   "metadata": {},
   "outputs": [],
   "source": [
    "# Number of non-fraud transactions vs time (first four hours) between consecutive sender transactions\n",
    "JPfraud[JPfraud.Label == 0].set_index('sender_time_btwn').resample('1D').Label.count().head(25).plot(kind='bar')\n",
    "plt.title('Number non-fraud vs time (days) btwn consecutive sender transaction')"
   ]
  },
  {
   "cell_type": "code",
   "execution_count": null,
   "id": "a14e8b36-3842-440c-997f-4bab0d34ddb4",
   "metadata": {},
   "outputs": [],
   "source": [
    "# Number of all transactions vs days between consecutive sender transactions\n",
    "JPfraud.set_index('sender_time_btwn').resample('1D').Label.count().head(25).plot(kind='bar')\n",
    "plt.title('Number of transactions vs time (days) btwn consecutive sender transaction')"
   ]
  },
  {
   "cell_type": "code",
   "execution_count": null,
   "id": "b70bebc6-fa79-44c4-a492-31f642eab3d0",
   "metadata": {},
   "outputs": [],
   "source": [
    "JPfraud.bene_time_btwn.describe()"
   ]
  },
  {
   "cell_type": "code",
   "execution_count": null,
   "id": "e0a4e859-2c0d-4203-bb9b-2ac681e43dda",
   "metadata": {},
   "outputs": [],
   "source": [
    "# Number of fraud, bene transactions vs time between last transactions, 10-minute distribution\n",
    "JPfraud[JPfraud.Label == 1].set_index('bene_time_btwn').resample('10min').Label.count()"
   ]
  },
  {
   "cell_type": "code",
   "execution_count": null,
   "id": "64919a00-63bd-4392-a389-2ffb2d9d0a4e",
   "metadata": {},
   "outputs": [],
   "source": [
    "# Number of fraud, bene transactions vs time between last transactions, 10-minute distribution (first 4 hours)\n",
    "JPfraud[JPfraud.Label == 1].set_index('bene_time_btwn').resample('10min').Label.count().head(25)"
   ]
  },
  {
   "cell_type": "code",
   "execution_count": null,
   "id": "e70a6853-afb3-4509-8e68-4561783b2129",
   "metadata": {},
   "outputs": [],
   "source": [
    "# Number of non-fraud, bene transactions vs time between last transactions, 10-minute distribution\n",
    "JPfraud[JPfraud.Label == 0].set_index('bene_time_btwn').resample('10min').Label.count().head(25)"
   ]
  },
  {
   "cell_type": "code",
   "execution_count": null,
   "id": "eb962dcf-4ddd-4202-a28f-be67cb8d358a",
   "metadata": {},
   "outputs": [],
   "source": [
    "JPfraud[JPfraud.Label == 1].set_index('bene_time_btwn').resample('1D').Label.count()"
   ]
  },
  {
   "cell_type": "code",
   "execution_count": null,
   "id": "9a40e132-9847-40f7-8e68-d0e73440b846",
   "metadata": {},
   "outputs": [],
   "source": [
    "JPfraud[JPfraud.Label == 0].set_index('bene_time_btwn').resample('1D').Label.count()"
   ]
  },
  {
   "cell_type": "code",
   "execution_count": null,
   "id": "fc3d334e-1b7c-44e2-94d6-917106a7350e",
   "metadata": {},
   "outputs": [],
   "source": [
    "timeDiffcompare = pd.concat([JPfraud[JPfraud.Label == 1].set_index('sender_time_btwn').resample('1D').Label.count(),\n",
    "                             JPfraud[JPfraud.Label == 1].set_index('bene_time_btwn').resample('1D').Label.count()],\n",
    "                             keys=['sender_time_btwn','bene_time_btwn'],\n",
    "                             axis=1).fillna(0)\n",
    "timeDiffcompare.index = timeDiffcompare.index.days\n",
    "timeDiffcompare"
   ]
  },
  {
   "cell_type": "code",
   "execution_count": null,
   "id": "b351a36d-51a5-47ae-bdad-77ae66da9b4c",
   "metadata": {},
   "outputs": [],
   "source": [
    "plt.figure(figsize=(20,10))\n",
    "timeDiffcompare.plot.bar(stacked=False,width=1)\n",
    "plt.xticks(fontsize=6,rotation=0)\n",
    "plt.xlabel('Days between transactions')\n",
    "plt.ylabel('Number of fraud transactions')\n",
    "plt.show()"
   ]
  },
  {
   "cell_type": "markdown",
   "id": "349d03ad-9cf2-4a38-9a24-e583d37af6fc",
   "metadata": {},
   "source": [
    "<font size=5> Generating time/time range features </font>"
   ]
  },
  {
   "cell_type": "code",
   "execution_count": null,
   "id": "505f711f-a0cc-4723-879f-ac86f26def68",
   "metadata": {},
   "outputs": [],
   "source": [
    "# Functions to convert between seconds and a time object\n",
    "def convert_time_to_seconds(timeObj):\n",
    "    return int((timeObj.hour)*60*60 + (timeObj.minute)*60 + (timeObj.second))\n",
    "\n",
    "def convert_seconds_to_time(seconds):\n",
    "    if pd.isna(seconds):\n",
    "        return pd.NA\n",
    "    \n",
    "    hour = int(seconds / 3600)\n",
    "    mins = int((seconds % 3600)/60)\n",
    "    secs = (seconds % 3600) % 60\n",
    "\n",
    "    return dt.time(hour,mins,secs)"
   ]
  },
  {
   "cell_type": "code",
   "execution_count": null,
   "id": "e3766920-fa63-49e6-aea3-83c1a738e572",
   "metadata": {},
   "outputs": [],
   "source": [
    "np.linspace(0.75,1,26)"
   ]
  },
  {
   "cell_type": "code",
   "execution_count": null,
   "id": "d27551fb-368c-44be-bb71-981ea49632d2",
   "metadata": {},
   "outputs": [],
   "source": [
    "pd.options.mode.chained_assignment = None\n",
    "# Develop time range features:\n",
    "\n",
    "# seconds_in_day: how many seconds after midnight the transaction is recorded for\n",
    "JPfraud['seconds_in_day'] = JPfraud.Time_step.transform(lambda x: convert_time_to_seconds(x.time()))\n",
    "\n",
    "perc_outside_fraud = np.zeros(len(np.linspace(0.75,1,26)))\n",
    "perc_outside_general = np.zeros(len(np.linspace(0.75,1,26)))\n",
    "data_length = len(JPfraud)\n",
    "data_fraud_length = len(JPfraud[JPfraud.Label == 1])\n",
    "\n",
    "for j, quant in enumerate(np.linspace(0.75,1,26)):\n",
    "\n",
    "# time_min_out: expanding quantile, i.e. at time of transaction, of lower bound on range of time for\n",
    "#               regular transactions of sender (in seconds after midnight)\n",
    "    JPfraud['time_min_out'] = JPfraud.set_index('Time_step').groupby(\n",
    "            'Sender_Account',sort=False)['seconds_in_day'].transform(\n",
    "            lambda x: x.expanding(method='single').quantile(q=0)).reset_index(level=0,drop=True)\n",
    "\n",
    "# time_max_out: expanding quantile of upper bound on range of time for regular transactions of sender\n",
    "#               (in seconds after midnight)\n",
    "    JPfraud['time_max_out'] = JPfraud.set_index('Time_step').groupby(\n",
    "            'Sender_Account',sort=False)['seconds_in_day'].transform(\n",
    "            lambda x: x.expanding(method='single').quantile(q=quant)).reset_index(level=0,drop=True)\n",
    "\n",
    "# time_min_in: expanding quantile of lower bound on range of time for regular transactions of\n",
    "#               beneficiary (in seconds after midnight)\n",
    "    JPfraud['time_min_in'] = JPfraud.set_index('Time_step').groupby(\n",
    "            'Bene_Account',sort=False)['seconds_in_day'].transform(\n",
    "            lambda x: x.expanding(method='single').quantile(q=0)).reset_index(level=0,drop=True)\n",
    "\n",
    "# time_max_in: expanding quantile of upper bound on range of time for regular transactions of\n",
    "#               beneficiary (in seconds after midnight)\n",
    "    JPfraud['time_max_in'] = JPfraud.set_index('Time_step').groupby(\n",
    "            'Bene_Account',sort=False)['seconds_in_day'].transform(\n",
    "            lambda x: x.expanding(method='single').quantile(q=quant)).reset_index(level=0,drop=True)\n",
    "\n",
    "# outside_time_bene_range: indicator of whether transaction is outside range for beneficiary at\n",
    "#                          time of transaction, 0 no, 1 yes\n",
    "# outside_time_sender_range: indicator of whether transaction is outside usual time range for sender\n",
    "#                            at time of transaction, 0 no, 1 yes\n",
    "    JPfraud = JPfraud.assign(outside_time_bene_range = lambda x: ((x.seconds_in_day < x.time_min_in) | (x.seconds_in_day > x.time_max_in))*1)\n",
    "    JPfraud = JPfraud.assign(outside_time_sender_range = lambda x: ((x.seconds_in_day < x.time_min_out) | (x.seconds_in_day > x.time_max_out))*1)\n",
    "\n",
    "    perc_outside_fraud[j] = (JPfraud[JPfraud.Label == 1].outside_time_bene_range.sum() +\n",
    "                             JPfraud[JPfraud.Label == 1].outside_time_sender_range.sum())/data_fraud_length\n",
    "    perc_outside_general[j] = (JPfraud.outside_time_bene_range.sum() +\n",
    "                             JPfraud.outside_time_sender_range.sum())/data_length\n",
    "    print([perc_outside_fraud[j],perc_outside_general[j]])\n",
    "    \n",
    "\n",
    "#JPfraud"
   ]
  },
  {
   "cell_type": "code",
   "execution_count": null,
   "id": "ecd9b237-c37d-4d75-8773-faa2ddb9cc5e",
   "metadata": {},
   "outputs": [],
   "source": [
    "plt.figure()\n",
    "plt.scatter(np.linspace(0.75,1,26),perc_outside_fraud,label='fraud percentage')\n",
    "plt.scatter(np.linspace(0.75,1,26),perc_outside_general,label='general percentage')\n",
    "plt.xlabel('Upper quantile percentage, lower 0%')\n",
    "plt.ylabel('Percentage')\n",
    "plt.legend()\n",
    "\n",
    "plt.show()"
   ]
  },
  {
   "cell_type": "code",
   "execution_count": null,
   "id": "462fc213-0329-46ee-8ed0-08a00139a693",
   "metadata": {},
   "outputs": [],
   "source": [
    "plt.figure()\n",
    "plt.scatter(np.linspace(0.75,1,26),perc_outside_fraud,label='fraud percentage')\n",
    "plt.scatter(np.linspace(0.75,1,26),perc_outside_general,label='general percentage')\n",
    "plt.xlabel('Upper quantile percentage, lower 0%')\n",
    "plt.ylabel('Percentage')\n",
    "plt.legend()\n",
    "\n",
    "plt.show()"
   ]
  },
  {
   "cell_type": "code",
   "execution_count": null,
   "id": "230d768f-c151-4c9e-ac28-a89c54f3ac74",
   "metadata": {},
   "outputs": [],
   "source": [
    "time_features = JPfraud[['Time_step','Label','seconds_in_day','outside_time_bene_range','outside_time_sender_range']]\n",
    "time_features"
   ]
  },
  {
   "cell_type": "code",
   "execution_count": null,
   "id": "4db61fd6-33ba-4060-9764-276f0a50bd83",
   "metadata": {},
   "outputs": [],
   "source": [
    "def label_time_range(seconds):\n",
    "    return int(seconds/3600) + 1"
   ]
  },
  {
   "cell_type": "code",
   "execution_count": null,
   "id": "ddc4f683-fcf3-4482-9e7f-eaab1d7be043",
   "metadata": {},
   "outputs": [],
   "source": [
    "# transaction_hour: hour of transaction within a day\n",
    "time_features['transaction_hour'] = time_features.seconds_in_day.apply(label_time_range)\n",
    "time_features"
   ]
  },
  {
   "cell_type": "code",
   "execution_count": null,
   "id": "8dee79ae-77e7-454b-8379-213797a5c368",
   "metadata": {},
   "outputs": [],
   "source": [
    "(time_features[time_features.Label == 1].outside_time_bene_range.sum() +\n",
    "time_features[time_features.Label == 1].outside_time_sender_range.sum())/len(time_features[time_features.Label == 1])"
   ]
  },
  {
   "cell_type": "code",
   "execution_count": null,
   "id": "060ff417-c6b0-49fa-ba44-c478a5b31ae9",
   "metadata": {},
   "outputs": [],
   "source": [
    "(time_features.outside_time_bene_range.sum() + time_features.outside_time_sender_range.sum())/len(time_features)"
   ]
  },
  {
   "cell_type": "code",
   "execution_count": null,
   "id": "05ce2e3d-a5d2-4119-8abf-f2d1c9bb8cd1",
   "metadata": {},
   "outputs": [],
   "source": [
    "time_features.to_csv('data/time_features.csv')"
   ]
  },
  {
   "cell_type": "code",
   "execution_count": null,
   "id": "2075d5e4-a777-4c55-93eb-f7a97a26d1f5",
   "metadata": {},
   "outputs": [],
   "source": [
    "time_features[time_features.Label == 1].groupby('transaction_hour').Label.value_counts().plot(kind='bar')\n",
    "plt.xlabel('Hour of day')\n",
    "plt.ylabel('Number of frauds')\n",
    "plt.ylim([0,700])\n",
    "plt.show()"
   ]
  },
  {
   "cell_type": "code",
   "execution_count": null,
   "id": "982f61ec-37eb-4009-962c-14f63341e4de",
   "metadata": {},
   "outputs": [],
   "source": [
    "time_features[time_features.outside_time_bene_range == 1].groupby('transaction_hour').outside_time_bene_range.value_counts().plot(kind='bar')\n",
    "plt.xlabel('Hour of day')\n",
    "plt.ylabel('Number of outside time range IN transactions')\n",
    "plt.ylim([0,14000])\n",
    "plt.show()"
   ]
  },
  {
   "cell_type": "code",
   "execution_count": null,
   "id": "78c53770-6f64-47a7-b38e-96b229f3dabb",
   "metadata": {},
   "outputs": [],
   "source": [
    "time_features[time_features.outside_time_sender_range == 1].groupby('trans_hour').outside_time_sender_range.value_counts().plot(kind='bar')\n",
    "plt.xlabel('Hour of day')\n",
    "plt.ylabel('Number of outside time range OUT transactions')\n",
    "plt.ylim([0,14000])\n",
    "plt.show()"
   ]
  },
  {
   "cell_type": "code",
   "execution_count": null,
   "id": "eaf754d6-af51-4b93-94d9-09a4dc75ee54",
   "metadata": {},
   "outputs": [],
   "source": [
    "time_features[((time_features.outside_time_sender_range == 1) & (time_features.Label == 1))].groupby(\n",
    "    'trans_hour').outside_time_sender_range.value_counts().plot(kind='bar')\n",
    "plt.xlabel('Hour of day')\n",
    "plt.ylabel('Number of fraudulent outside time range OUT transactions')\n",
    "#plt.ylim([0,14000])\n",
    "plt.show()"
   ]
  },
  {
   "cell_type": "code",
   "execution_count": null,
   "id": "45bd04ac-5d16-4978-83e2-3ccc4dd5e3df",
   "metadata": {},
   "outputs": [],
   "source": [
    "time_features[((time_features.outside_sender_bene_range == 1) & (time_features.Label == 1))].groupby(\n",
    "    'trans_hour').outside_time_bene_range.value_counts().plot(kind='bar')\n",
    "plt.xlabel('Hour of day')\n",
    "plt.ylabel('Number of fraudulent outside time range IN transactions')\n",
    "#plt.ylim([0,14000])\n",
    "plt.show()"
   ]
  },
  {
   "cell_type": "code",
   "execution_count": null,
   "id": "0811e123-2bc9-464f-a436-585477443fa2",
   "metadata": {},
   "outputs": [],
   "source": [
    "JPfraud.loc[JPfraud.Sender_Id == sendIDs[9]].USD_amount.agg('describe')[['std','min','25%','50%','mean','75%','max']].values"
   ]
  },
  {
   "cell_type": "code",
   "execution_count": null,
   "id": "534d8fba-d8cb-4c9e-9953-7c732aae70b1",
   "metadata": {},
   "outputs": [],
   "source": [
    "pd.options.mode.chained_assignment = None"
   ]
  },
  {
   "cell_type": "code",
   "execution_count": null,
   "id": "527d90ef-ec66-42dd-a632-d0b6db317af1",
   "metadata": {},
   "outputs": [],
   "source": [
    "#sender_fraud_stat_amounts = JPfraud.loc[JPfraud.Label == 1].groupby(\n",
    "#    'Sender_Id').USD_amount.agg('describe')[['std','min','25%','50%','mean','75%','max']].reset_index()\n",
    "#sender_fraud_stat_amounts"
   ]
  },
  {
   "cell_type": "code",
   "execution_count": null,
   "id": "93a15fd1-6562-4f86-b8c5-6cd33d3e943a",
   "metadata": {},
   "outputs": [],
   "source": [
    "JPfraud[JPfraud.Bene_Id == 'CLIENT-725719'].outside_time_out_range.sum()"
   ]
  },
  {
   "cell_type": "code",
   "execution_count": null,
   "id": "409bc1b8-759a-4611-a411-f81b34367c85",
   "metadata": {},
   "outputs": [],
   "source": [
    "JPfraud[JPfraud.Bene_Id == 'CLIENT-725719'].Label.sum()"
   ]
  },
  {
   "cell_type": "code",
   "execution_count": null,
   "id": "033ac057-9abc-4a87-86c6-02362c3f2a7c",
   "metadata": {},
   "outputs": [],
   "source": [
    "JPfraud[JPfraud.Sender_Account == 'ACCOUNT-9825']"
   ]
  },
  {
   "cell_type": "code",
   "execution_count": null,
   "id": "198954f5-63cb-4c03-b7e4-1fcc7be90ab1",
   "metadata": {},
   "outputs": [],
   "source": []
  }
 ],
 "metadata": {
  "kernelspec": {
   "display_name": "Python 3 (ipykernel)",
   "language": "python",
   "name": "python3"
  },
  "language_info": {
   "codemirror_mode": {
    "name": "ipython",
    "version": 3
   },
   "file_extension": ".py",
   "mimetype": "text/x-python",
   "name": "python",
   "nbconvert_exporter": "python",
   "pygments_lexer": "ipython3",
   "version": "3.11.7"
  }
 },
 "nbformat": 4,
 "nbformat_minor": 5
}
