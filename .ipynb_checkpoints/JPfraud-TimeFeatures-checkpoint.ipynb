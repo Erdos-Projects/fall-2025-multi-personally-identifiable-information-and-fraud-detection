{
 "cells": [
  {
   "cell_type": "code",
   "execution_count": null,
   "id": "527555dc-207f-4b9e-9c97-0c00bb21d0e6",
   "metadata": {},
   "outputs": [],
   "source": [
    "import pandas as pd\n",
    "import numpy as np\n",
    "import seaborn as sns\n",
    "import matplotlib.pyplot as plt\n",
    "import datetime as dt\n",
    "import time"
   ]
  },
  {
   "cell_type": "markdown",
   "id": "5bd3978d-a7cd-4c03-8706-104cb04d380b",
   "metadata": {},
   "source": [
    "<font size=5> Load data </font>"
   ]
  },
  {
   "cell_type": "code",
   "execution_count": null,
   "id": "fed2611c-802e-415c-b0e1-6443c5236360",
   "metadata": {},
   "outputs": [],
   "source": [
    "JPfraud_full = pd.read_csv(\"../data/fraud_payment_data\")\n",
    "JPfraud_full"
   ]
  },
  {
   "cell_type": "code",
   "execution_count": null,
   "id": "0f031ed6-ffb8-4c72-93bd-6c540940a686",
   "metadata": {},
   "outputs": [],
   "source": [
    "# Converting Time_step to a datetime type\n",
    "JPfraud_full = JPfraud_full.drop(columns=['Sender_lob'],axis=1)\n",
    "JPfraud_full['timestamp'] = pd.to_datetime(JPfraud_full['Time_step'],format='%Y-%m-%d %H:%M:%S')\n",
    "JPfraud_full = JPfraud_full.drop(columns=['Time_step'])\n",
    "JPfraud_full.insert(0,'timestamp',JPfraud_full.pop('timestamp'))\n",
    "JPfraud_full"
   ]
  },
  {
   "cell_type": "code",
   "execution_count": null,
   "id": "3c85e39a-3323-4072-9a99-790684efc65d",
   "metadata": {},
   "outputs": [],
   "source": [
    "# Truncating data for ease and for code to run quicker\n",
    "JPfraud = JPfraud_full[:500000]\n",
    "JPfraud"
   ]
  },
  {
   "cell_type": "code",
   "execution_count": null,
   "id": "9831f698-36fd-44cc-acfa-1fdb5024f4f5",
   "metadata": {},
   "outputs": [],
   "source": [
    "# Function to convert a time object to seconds after midnight\n",
    "# (pandas will promote int to float due to NaNs in the columns fyi)\n",
    "def convert_time_to_seconds(timeObj):\n",
    "    return int((timeObj.hour)*60*60 + (timeObj.minute)*60 + (timeObj.second))"
   ]
  },
  {
   "cell_type": "markdown",
   "id": "0ca1f4b9-cc39-480d-9ace-df7c592b8bc4",
   "metadata": {},
   "source": [
    "<font size=6> Time between transactions feature </font>"
   ]
  },
  {
   "cell_type": "code",
   "execution_count": null,
   "id": "0afdc9c5-3599-4ccc-9e7e-993846606d4c",
   "metadata": {},
   "outputs": [],
   "source": [
    "# Calculates time between previous transaction for each of seller, beneficiary\n",
    "# (The mask.....etc code sets the sender_time_btwn, bene_time_btwn feature to 0 (of timedelta type)\n",
    "# for the first occurrence an account appears. NaT's are still placed where a Sender_Account or\n",
    "# Bene_Account entry is NaN.)\n",
    "\n",
    "JPfraud['sender_time_btwn'] = (JPfraud.groupby('Sender_Account')['timestamp'].diff()\n",
    "                                      .mask(JPfraud.groupby('Sender_Account')['timestamp'].cumcount().eq(0), dt.timedelta(0))\n",
    "                              )\n",
    "JPfraud['bene_time_btwn'] = (JPfraud.groupby('Bene_Account')['timestamp'].diff()\n",
    "                                    .mask(JPfraud.groupby('Bene_Account')['timestamp'].cumcount().eq(0), dt.timedelta(0))\n",
    "                            )\n",
    "\n",
    "JPfraud"
   ]
  },
  {
   "cell_type": "markdown",
   "id": "8492b2df-9919-4a0a-87b4-e67b0b8383a9",
   "metadata": {},
   "source": [
    "<font size=6> Expanding time features </font> <br>\n",
    "Stats are updated at time of each transaction and represent entire history"
   ]
  },
  {
   "cell_type": "code",
   "execution_count": null,
   "id": "f67d269e-e7bc-4f07-a9d1-8cd54cb54553",
   "metadata": {},
   "outputs": [],
   "source": [
    "# Gives minimum number of observations before assigning entries\n",
    "min_obs = 3"
   ]
  },
  {
   "cell_type": "code",
   "execution_count": null,
   "id": "76215471-2b15-41a6-b71b-4aca50200b0e",
   "metadata": {},
   "outputs": [],
   "source": [
    "# Suppresses pandas' warnings about chained assignment\n",
    "pd.options.mode.chained_assignment = None\n",
    "\n",
    "# Choosing quantile percentages for time differences between transactions\n",
    "lower_time_diff_quantile = 0.1\n",
    "upper_time_diff_quantile = 0.9\n",
    "\n",
    "# Expanding quantiles for times between consecutive transactions (in total seconds)\n",
    "JPfraud['sender_time_diff_min'] = (JPfraud.groupby('Sender_Account')['sender_time_btwn']\n",
    "                                          .apply(lambda x: x.dt.total_seconds().expanding(method='single',min_periods=min_obs)\n",
    "                                                            .quantile(q=lower_time_diff_quantile,interpolation='midpoint'))\n",
    "                                          .reset_index(level=0,drop=True)\n",
    "                                  )\n",
    "\n",
    "JPfraud['sender_time_diff_max'] = (JPfraud.groupby('Sender_Account')['sender_time_btwn']\n",
    "                                          .apply(lambda x: x.dt.total_seconds().expanding(method='single',min_periods=min_obs)\n",
    "                                                            .quantile(q=upper_time_diff_quantile,interpolation='midpoint'))\n",
    "                                          .reset_index(level=0,drop=True)\n",
    "                                  )\n",
    "\n",
    "JPfraud['bene_time_diff_min'] = (JPfraud.groupby('Bene_Account',sort=False)['bene_time_btwn']\n",
    "                                        .apply(lambda x: x.dt.total_seconds().expanding(method='single',min_periods=min_obs)\n",
    "                                                          .quantile(q=lower_time_diff_quantile,interpolation='midpoint'))\n",
    "                                        .reset_index(level=0,drop=True)\n",
    "                                )\n",
    "\n",
    "JPfraud['bene_time_diff_max'] = (JPfraud.groupby('Bene_Account',sort=False)['bene_time_btwn']\n",
    "                                        .apply(lambda x: x.dt.total_seconds().expanding(method='single',min_periods=min_obs)\n",
    "                                                              .quantile(q=upper_time_diff_quantile,interpolation='midpoint'))\n",
    "                                        .reset_index(level=0,drop=True)\n",
    "                                )\n",
    "\n",
    "# outside_sender_time_diff_range, outside_bene_time_diff_range: Classifying whether time between consecutive\n",
    "# transaction is outside of the quantile range above\n",
    "JPfraud = JPfraud.assign(outside_sender_time_diff_range = lambda x: (\n",
    "            (x.sender_time_btwn.dt.total_seconds() < x.sender_time_diff_min) | (x.sender_time_btwn.dt.total_seconds() > x.sender_time_diff_max))*1)\n",
    "JPfraud = JPfraud.assign(outside_bene_time_diff_range = lambda x: (\n",
    "            (x.bene_time_btwn.dt.total_seconds() < x.bene_time_diff_min) | (x.bene_time_btwn.dt.total_seconds() > x.bene_time_diff_max))*1)\n",
    "\n",
    "JPfraud"
   ]
  },
  {
   "cell_type": "code",
   "execution_count": null,
   "id": "74a48086-c3eb-4226-b866-fd5f4f3a0794",
   "metadata": {},
   "outputs": [],
   "source": [
    "pd.options.mode.chained_assignment = None\n",
    "\n",
    "# Choosing quantile percentages\n",
    "lower_time_quantile = 0.15\n",
    "upper_time_quantile = 0.85\n",
    "\n",
    "# seconds_in_day: time transaction occurred in seconds after midnight\n",
    "JPfraud['seconds_in_day'] = JPfraud.timestamp.transform(lambda x: convert_time_to_seconds(x.time()))\n",
    "\n",
    "# time_min_out: expanding lower quantile for range of time of SENDER transactions (in seconds after midnight)\n",
    "JPfraud['time_min_out'] = (JPfraud.groupby('Sender_Account',sort=False)['seconds_in_day']\n",
    "                                  .apply(lambda x: x.expanding(method='single',min_periods=min_obs)\n",
    "                                                    .quantile(q=lower_time_quantile,interpolation='midpoint'))\n",
    "                                  .reset_index(level=0,drop=True)\n",
    "                          )\n",
    "\n",
    "# time_max_out: expanding upper quantile for range of time of SENDER transactions (in seconds after midnight)\n",
    "JPfraud['time_max_out'] = (JPfraud.groupby('Sender_Account',sort=False)['seconds_in_day']\n",
    "                                  .apply(lambda x: x.expanding(method='single',min_periods=min_obs).quantile(\n",
    "                                        q=upper_time_quantile))\n",
    "                                  .reset_index(level=0,drop=True)\n",
    "                          )\n",
    "\n",
    "# time_min_in: expanding lower quantile for range of time of BENEFICIARY transactions (in seconds after midnight)\n",
    "JPfraud['time_min_in'] = (JPfraud.groupby('Bene_Account',sort=False)['seconds_in_day']\n",
    "                                 .apply(lambda x: x.expanding(method='single',min_periods=min_obs)\n",
    "                                                   .quantile(q=lower_time_quantile,interpolation='midpoint'))\n",
    "                                 .reset_index(level=0,drop=True)\n",
    "                         )\n",
    "\n",
    "# time_max_in: expanding upper quantile for range of time of BENEFICIARY transactions (in seconds after midnight)\n",
    "JPfraud['time_max_in'] = (JPfraud.groupby('Bene_Account',sort=False)['seconds_in_day']\n",
    "                                 .apply(lambda x: x.expanding(method='single',min_periods=min_obs)\n",
    "                                                   .quantile(q=upper_time_quantile,interpolation='midpoint'))\n",
    "                                 .reset_index(level=0,drop=True)\n",
    "                         )\n",
    "\n",
    "# outside_time_bene_range:   indicator of whether transaction is outside range for beneficiary at\n",
    "#                            time of transaction, 0 no, 1 yes\n",
    "JPfraud = JPfraud.assign(outside_time_bene_range = lambda x: ((x.seconds_in_day < x.time_min_in) | (x.seconds_in_day > x.time_max_in))*1)\n",
    "\n",
    "# outside_time_sender_range: indicator of whether transaction is outside usual time range for sender\n",
    "#                            at time of transaction, 0 no, 1 yes\n",
    "JPfraud = JPfraud.assign(outside_time_sender_range = lambda x: ((x.seconds_in_day < x.time_min_out) | (x.seconds_in_day > x.time_max_out))*1)\n",
    "\n",
    "JPfraud"
   ]
  },
  {
   "cell_type": "markdown",
   "id": "b75a5cae-407b-42b0-a84d-90e96a8b93fe",
   "metadata": {},
   "source": [
    "<font size=6> Rolling time features </font> <br>\n",
    "Stats are updated at time of each transaction, but only for a rolling window of time; for instance within the last 180 days. (These features are not  quite generating correctly.)"
   ]
  },
  {
   "cell_type": "code",
   "execution_count": null,
   "id": "3586f068-1b87-41e4-8d4f-d8c463a62c3c",
   "metadata": {},
   "outputs": [],
   "source": [
    "# Sets the rolling period for the rolling stat features\n",
    "rolling_period = '180D' # 180 days\n",
    "\n",
    "# Gives minimum number of observations before assigning entries\n",
    "min_obs = 3"
   ]
  },
  {
   "cell_type": "code",
   "execution_count": null,
   "id": "9e3ed582-8608-4338-b66f-9ea92cc28c22",
   "metadata": {},
   "outputs": [],
   "source": [
    "# Suppresses pandas' warnings about chained assignment\n",
    "pd.options.mode.chained_assignment = None\n",
    "\n",
    "# Choosing quantile percentages for time differences\n",
    "lower_time_diff_quantile = 0.1\n",
    "upper_time_diff_quantile = 0.9\n",
    "\n",
    "# Rolling quantiles for times between consecutive transactions\n",
    "JPfraud['rolling_sender_time_diff_min'] = (JPfraud.set_index('timestamp')\n",
    "                                                  .groupby('Sender_Account')['sender_time_btwn']\n",
    "                                                  .transform(lambda x: x.dt.total_seconds()\n",
    "                                                                        .rolling(window=rolling_period,min_periods=min_obs)\n",
    "                                                                        .quantile(q=lower_time_diff_quantile,interpolation='midpoint'))\n",
    "                                                  .reset_index(level=0,drop=True)\n",
    "                                          )\n",
    "\n",
    "JPfraud['rolling_sender_time_diff_max'] = (JPfraud.set_index('timestamp').groupby('Sender_Account')['sender_time_btwn']\n",
    "                                                  .transform(lambda x: x.dt.total_seconds()\n",
    "                                                                        .rolling(window=rolling_period,min_periods=min_obs)\n",
    "                                                                        .quantile(q=upper_time_diff_quantile,interpolation='midpoint'))\n",
    "                                                  .reset_index(level=0,drop=True)\n",
    "                                          )\n",
    "\n",
    "JPfraud['rolling_bene_time_diff_min'] = (JPfraud.set_index('timestamp').groupby('Bene_Account')['bene_time_btwn']\n",
    "                                                .transform(lambda x: x.dt.total_seconds()\n",
    "                                                                      .rolling(window=rolling_period,min_periods=min_obs)\n",
    "                                                                      .quantile(q=lower_time_diff_quantile,interpolation='midpoint'))\n",
    "                                                .reset_index(level=0,drop=True)\n",
    "                                        )\n",
    "\n",
    "JPfraud['rolling_bene_time_diff_max'] = (JPfraud.set_index('timestamp').groupby('Bene_Account')['bene_time_btwn']\n",
    "                                                .transform(lambda x: x.dt.total_seconds()\n",
    "                                                                      .rolling(window=rolling_period,min_periods=min_obs)\n",
    "                                                                      .quantile(q=upper_time_diff_quantile,interpolation='midpoint'))\n",
    "                                                .reset_index(level=0,drop=True)\n",
    "                                        )\n",
    "\n",
    "# rolling_outside_sender_time_diff_range, rolling_outside_bene_time_diff_range: Classifying whether time between consecutive\n",
    "#       transaction is outside of the quantile range above\n",
    "JPfraud = JPfraud.assign(rolling_outside_sender_time_diff_range = lambda x: (\n",
    "            (x.sender_time_btwn.dt.total_seconds() < x.rolling_sender_time_diff_min) | (x.sender_time_btwn.dt.total_seconds() > x.rolling_sender_time_diff_max))*1)\n",
    "JPfraud = JPfraud.assign(rolling_outside_bene_time_diff_range = lambda x: (\n",
    "            (x.bene_time_btwn.dt.total_seconds() < x.rolling_bene_time_diff_min) | (x.bene_time_btwn.dt.total_seconds() > x.rolling_bene_time_diff_max))*1)\n",
    "\n",
    "JPfraud"
   ]
  },
  {
   "cell_type": "code",
   "execution_count": null,
   "id": "ddf14346-a7c6-4722-b55b-5ebcd7e858f2",
   "metadata": {},
   "outputs": [],
   "source": [
    "# Suppresses pandas' warnings about chained assignment\n",
    "pd.options.mode.chained_assignment = None\n",
    "\n",
    "# Choosing quantile percentages\n",
    "lower_time_quantile = 0.15\n",
    "upper_time_quantile = 0.85\n",
    "\n",
    "# seconds_in_day: time transaction occurred in seconds after midnight\n",
    "JPfraud['seconds_in_day'] = JPfraud.timestamp.transform(lambda x: convert_time_to_seconds(x.time()))\n",
    "\n",
    "# rolling_time_min_out: rolling lower quantile for range of time of SENDER transactions (in seconds after midnight)\n",
    "JPfraud['rolling_time_min_out'] = (JPfraud.set_index('timestamp')\n",
    "                                          .groupby('Sender_Account')['seconds_in_day']\n",
    "                                          .transform(lambda x: x.rolling(window=rolling_period,min_periods=min_obs)\n",
    "                                                                .quantile(q=lower_time_quantile,interpolation='midpoint'))\n",
    "                                          .reset_index(level=0,drop=True)\n",
    "                                  )\n",
    "\n",
    "# rolling_time_max_out: rolling upper quantile for range of time of SENDER transactions (in seconds after midnight)\n",
    "JPfraud['rolling_time_max_out'] = (JPfraud.set_index('timestamp')\n",
    "                                          .groupby('Sender_Account')['seconds_in_day']\n",
    "                                          .transform(lambda x: x.rolling(window=rolling_period,min_periods=min_obs)\n",
    "                                                                .quantile(q=upper_time_quantile,interpolation='midpoint'))\n",
    "                                          .reset_index(level=0,drop=True)\n",
    "                                  )\n",
    "\n",
    "# rolling_time_min_in: rolling lower quantile for range of time of BENEFICIARY transactions (in seconds after midnight)\n",
    "JPfraud['rolling_time_min_in'] = (JPfraud.set_index('timestamp')\n",
    "                                         .groupby('Bene_Account')['seconds_in_day']\n",
    "                                         .transform(lambda x: x.rolling(window=rolling_period,min_periods=min_obs)\n",
    "                                                               .quantile(q=lower_time_quantile,interpolation='midpoint'))\n",
    "                                         .reset_index(level=0,drop=True)\n",
    "                                 )\n",
    "\n",
    "# rolling_time_max_in: rolling upper quantile for range of time of BENEFICIARY transactions (in seconds after midnight)\n",
    "JPfraud['rolling_time_max_in'] = (JPfraud.set_index('timestamp')\n",
    "                                         .groupby('Bene_Account')['seconds_in_day']\n",
    "                                         .transform(lambda x: x.rolling(window=rolling_period,min_periods=min_obs)\n",
    "                                                               .quantile(q=upper_time_quantile,interpolation='midpoint'))\n",
    "                                         .reset_index(level=0,drop=True)\n",
    "                                 )\n",
    "\n",
    "# rolling_outside_time_bene_range:   indicator of whether transaction is outside range for beneficiary at\n",
    "#                                    time of transaction, 0 no, 1 yes\n",
    "JPfraud = JPfraud.assign(rolling_outside_time_bene_range = lambda x: ((x.seconds_in_day < x.time_min_in) | (x.seconds_in_day > x.time_max_in))*1)\n",
    "\n",
    "# rolling_outside_time_sender_range: indicator of whether transaction is outside usual time range for sender\n",
    "#                                    at time of transaction, 0 no, 1 yes\n",
    "JPfraud = JPfraud.assign(rolling_outside_time_sender_range = lambda x: ((x.seconds_in_day < x.time_min_out) | (x.seconds_in_day > x.time_max_out))*1)\n",
    "\n",
    "JPfraud"
   ]
  },
  {
   "cell_type": "markdown",
   "id": "b1deb29f-efd9-42e1-b2a2-aca99667f923",
   "metadata": {},
   "source": [
    "<font size=6> Bursts of Transactions feature </font>"
   ]
  },
  {
   "cell_type": "code",
   "execution_count": null,
   "id": "dc1579e4-d67c-4702-9245-fc9b12fb34b8",
   "metadata": {},
   "outputs": [],
   "source": [
    "# Window within to count the number of transactions\n",
    "burst_period = '1D' # previous 24 hours/1 day\n",
    "\n",
    "# Number of transactions within a previous window of time given by burst_period\n",
    "JPfraud['sender_burst_num'] = (JPfraud.set_index('timestamp')\n",
    "                                      .groupby('Sender_Account',group_keys=False)['Sender_Account']\n",
    "                                      .apply(lambda x: x.rolling(window=burst_period).count())\n",
    "                                      .reset_index(level=0,drop=True)\n",
    "                              )\n",
    "\n",
    "JPfraud['bene_burst_num'] = (JPfraud.set_index('timestamp')\n",
    "                                    .groupby('Bene_Account',group_keys=False)['Bene_Account']\n",
    "                                    .apply(lambda x: x.rolling(window=burst_period).count())\n",
    "                                    .reset_index(level=0,drop=True)\n",
    "                            )\n",
    "JPfraud"
   ]
  },
  {
   "cell_type": "code",
   "execution_count": null,
   "id": "f5fc96b2-18a1-4e5a-93eb-d2aba00d9b21",
   "metadata": {},
   "outputs": [],
   "source": []
  }
 ],
 "metadata": {
  "kernelspec": {
   "display_name": "Python 3 (ipykernel)",
   "language": "python",
   "name": "python3"
  },
  "language_info": {
   "codemirror_mode": {
    "name": "ipython",
    "version": 3
   },
   "file_extension": ".py",
   "mimetype": "text/x-python",
   "name": "python",
   "nbconvert_exporter": "python",
   "pygments_lexer": "ipython3",
   "version": "3.11.7"
  }
 },
 "nbformat": 4,
 "nbformat_minor": 5
}
