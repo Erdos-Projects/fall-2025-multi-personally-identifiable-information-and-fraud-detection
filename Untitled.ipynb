{
 "cells": [
  {
   "cell_type": "code",
   "execution_count": null,
   "id": "527555dc-207f-4b9e-9c97-0c00bb21d0e6",
   "metadata": {},
   "outputs": [],
   "source": [
    "import pandas as pd\n",
    "import numpy as np\n",
    "import seaborn as sns\n",
    "import matplotlib.pyplot as plt\n",
    "import datetime as dt\n",
    "import time"
   ]
  },
  {
   "cell_type": "markdown",
   "id": "5bd3978d-a7cd-4c03-8706-104cb04d380b",
   "metadata": {},
   "source": [
    "<font size=5> Load and clean data </font>"
   ]
  },
  {
   "cell_type": "code",
   "execution_count": null,
   "id": "fed2611c-802e-415c-b0e1-6443c5236360",
   "metadata": {},
   "outputs": [],
   "source": [
    "JPfraud_full = pd.read_csv(\"../data/fraud_payment_data\")\n",
    "JPfraud_full"
   ]
  },
  {
   "cell_type": "code",
   "execution_count": null,
   "id": "0f031ed6-ffb8-4c72-93bd-6c540940a686",
   "metadata": {},
   "outputs": [],
   "source": [
    "# Converting Time_step to a datetime type\n",
    "JPfraud_full = JPfraud_full.drop(labels=['Sender_Sector','Sender_lob'],axis=1)\n",
    "JPfraud_full['Time_step'] = pd.to_datetime(JPfraud_full['Time_step'],format='%Y-%m-%d %H:%M:%S')\n",
    "JPfraud_full"
   ]
  },
  {
   "cell_type": "code",
   "execution_count": null,
   "id": "3c85e39a-3323-4072-9a99-790684efc65d",
   "metadata": {},
   "outputs": [],
   "source": [
    "# Truncating data for ease and for code to run quicker\n",
    "JPfraud = JPfraud_full[:500000]\n",
    "JPfraud"
   ]
  },
  {
   "cell_type": "code",
   "execution_count": null,
   "id": "9831f698-36fd-44cc-acfa-1fdb5024f4f5",
   "metadata": {},
   "outputs": [],
   "source": [
    "# Function to convert a time object to seconds after midnight\n",
    "# (pandas will promote int to float due to NaNs in the column fyi)\n",
    "def convert_time_to_seconds(timeObj):\n",
    "    return int((timeObj.hour)*60*60 + (timeObj.minute)*60 + (timeObj.second))"
   ]
  },
  {
   "cell_type": "markdown",
   "id": "0ca1f4b9-cc39-480d-9ace-df7c592b8bc4",
   "metadata": {},
   "source": [
    "<font size=6> **Time features** </font>"
   ]
  },
  {
   "cell_type": "code",
   "execution_count": null,
   "id": "0afdc9c5-3599-4ccc-9e7e-993846606d4c",
   "metadata": {},
   "outputs": [],
   "source": [
    "# Calculates time between previous transaction for each of seller, beneficiary\n",
    "# The mask.....etc code sets the sender_time_btwn or bene_time_btwn feature to 0 (of timedelta type)\n",
    "# for the first occurrence an account appears (normally it's given NaN or NaT). NaT's are still placed\n",
    "# where a Sender_Account or Bene_Account entry is NaN.\n",
    "\n",
    "JPfraud['sender_time_btwn'] = JPfraud.groupby('Sender_Account')['Time_step'].diff().mask(JPfraud.groupby('Sender_Account')['Time_step'].cumcount().eq(0), dt.timedelta(0))\n",
    "JPfraud['bene_time_btwn'] = JPfraud.groupby('Bene_Account')['Time_step'].diff().mask(JPfraud.groupby('Bene_Account')['Time_step'].cumcount().eq(0), dt.timedelta(0))"
   ]
  },
  {
   "cell_type": "markdown",
   "id": "b75a5cae-407b-42b0-a84d-90e96a8b93fe",
   "metadata": {},
   "source": [
    "<font size=6> Rolling time features </font> <br>\n",
    "Look at meeee. Hail Mary!"
   ]
  },
  {
   "cell_type": "code",
   "execution_count": null,
   "id": "3586f068-1b87-41e4-8d4f-d8c463a62c3c",
   "metadata": {},
   "outputs": [],
   "source": [
    "# Sets the rolling period for the rolling stat features\n",
    "rolling_period = '180D' # 180 days\n",
    "\n",
    "#  Gives minimum number of observations before assigning the entries\n",
    "min_obs = 3"
   ]
  },
  {
   "cell_type": "code",
   "execution_count": null,
   "id": "9e3ed582-8608-4338-b66f-9ea92cc28c22",
   "metadata": {},
   "outputs": [],
   "source": [
    "# Suppresses pandas' warnings about chained assignment, times between transactions\n",
    "pd.options.mode.chained_assignment = None\n",
    "\n",
    "# Rolling 90-day quantiles (15%, 85%) for times between consecutive transactions\n",
    "JPfraud['rolling_sender_time_diff_min'] = JPfraud.set_index('Time_step').groupby(\n",
    "                    'Sender_Account',sort=False)['sender_time_btwn'].transform(\n",
    "                    lambda x: x.dt.total_seconds().rolling(rolling_period,min_periods=min_obs).quantile(q=0.1)).reset_index(level=0,drop=True)\n",
    "\n",
    "JPfraud['rolling_sender_time_diff_max'] = JPfraud.set_index('Time_step').groupby(\n",
    "                    'Sender_Account',sort=False)['sender_time_btwn'].transform(\n",
    "                    lambda x: x.dt.total_seconds().rolling(rolling_period,min_periods=min_obs).quantile(q=0.9)).reset_index(level=0,drop=True)\n",
    "\n",
    "JPfraud['rolling_bene_time_diff_min'] = JPfraud.set_index('Time_step').groupby(\n",
    "                    'Bene_Account',sort=False)['bene_time_btwn'].transform(\n",
    "                    lambda x: x.dt.total_seconds().rolling(rolling_period,min_periods=min_obs).quantile(q=0.1)).reset_index(level=0,drop=True)\n",
    "\n",
    "JPfraud['rolling_bene_time_diff_max'] = JPfraud.set_index('Time_step').groupby(\n",
    "                    'Bene_Account',sort=False)['bene_time_btwn'].transform(\n",
    "                    lambda x: x.dt.total_seconds().rolling(rolling_period,min_periods=min_obs).quantile(q=0.9)).reset_index(level=0,drop=True)\n",
    "\n",
    "# Classifying whether time between consecutive transaction is outside of range\n",
    "JPfraud = JPfraud.assign(out_sender_time_diff_range = lambda x: (\n",
    "            (x.sender_time_btwn.dt.total_seconds() < x.rolling_sender_time_diff_min) | (x.sender_time_btwn.dt.total_seconds() > x.rolling_sender_time_diff_max))*1)\n",
    "JPfraud = JPfraud.assign(out_bene_time_diff_range = lambda x: (\n",
    "            (x.bene_time_btwn.dt.total_seconds() < x.rolling_bene_time_diff_min) | (x.bene_time_btwn.dt.total_seconds() > x.rolling_bene_time_diff_max))*1)"
   ]
  },
  {
   "cell_type": "code",
   "execution_count": null,
   "id": "ddf14346-a7c6-4722-b55b-5ebcd7e858f2",
   "metadata": {},
   "outputs": [],
   "source": [
    "pd.options.mode.chained_assignment = None\n",
    "lower_time_quantile = 0.15\n",
    "upper_time_quantile = 0.85\n",
    "\n",
    "# seconds_in_day: time transaction occurred in seconds after midnight\n",
    "JPfraud['seconds_in_day'] = JPfraud.Time_step.transform(lambda x: convert_time_to_seconds(x.time()))\n",
    "\n",
    "\n",
    "# time_min_out: rolling lower quantile for range of time of SENDER transactions (in seconds after midnight)\n",
    "JPfraud['time_min_out'] = JPfraud.set_index('Time_step').groupby(\n",
    "                                'Sender_Account',sort=False)['seconds_in_day'].transform(\n",
    "                                lambda x: x.rolling(rolling_period,min_periods=min_obs).quantile(q=lower_time_quantile)).reset_index(level=0,drop=True)\n",
    "\n",
    "# time_max_out: rolling upper quantile for range of time of SENDER transactions (in seconds after midnight)\n",
    "JPfraud['time_max_out'] = JPfraud.set_index('Time_step').groupby(\n",
    "                                'Sender_Account',sort=False)['seconds_in_day'].transform(\n",
    "                                lambda x: x.rolling(rolling_period,min_periods=min_obs).quantile(\n",
    "                                q=upper_time_quantile)).reset_index(level=0,drop=True)\n",
    "\n",
    "# time_min_in: rolling lower quantile for range of time of BENEFICIARY transactions (in seconds after midnight)\n",
    "JPfraud['time_min_in'] = JPfraud.set_index('Time_step').groupby(\n",
    "                                'Bene_Account',sort=False)['seconds_in_day'].transform(\n",
    "                                lambda x: x.rolling(rolling_period,min_periods=min_obs).quantile(\n",
    "                                q=lower_time_quantile)).reset_index(level=0,drop=True)\n",
    "\n",
    "# time_max_in: rolling upper quantile for range of time of BENEFICIARY transactions (in seconds after midnight)\n",
    "JPfraud['time_max_in'] = JPfraud.set_index('Time_step').groupby(\n",
    "                                'Bene_Account',sort=False)['seconds_in_day'].transform(\n",
    "                                lambda x: x.rolling(rolling_period,min_periods=min_obs).quantile(\n",
    "                                q=upper_time_quantile)).reset_index(level=0,drop=True)\n",
    "\n",
    "# outside_time_bene_range:   indicator of whether transaction is outside range for beneficiary at\n",
    "#                            time of transaction, 0 no, 1 yes\n",
    "JPfraud = JPfraud.assign(outside_time_bene_range = lambda x: ((x.seconds_in_day < x.time_min_in) | (x.seconds_in_day > x.time_max_in))*1)\n",
    "\n",
    "# outside_time_sender_range: indicator of whether transaction is outside usual time range for sender\n",
    "#                            at time of transaction, 0 no, 1 yes\n",
    "JPfraud = JPfraud.assign(outside_time_sender_range = lambda x: ((x.seconds_in_day < x.time_min_out) | (x.seconds_in_day > x.time_max_out))*1)\n",
    "\n",
    "#JPfraud"
   ]
  },
  {
   "cell_type": "code",
   "execution_count": null,
   "id": "a8ef06a6-f1cf-49d1-a1e6-6893c6b73bd0",
   "metadata": {},
   "outputs": [],
   "source": []
  },
  {
   "cell_type": "code",
   "execution_count": null,
   "id": "dc1579e4-d67c-4702-9245-fc9b12fb34b8",
   "metadata": {},
   "outputs": [],
   "source": []
  },
  {
   "cell_type": "code",
   "execution_count": null,
   "id": "1e904bb0-13a3-455c-9c18-e091371c739c",
   "metadata": {},
   "outputs": [],
   "source": []
  }
 ],
 "metadata": {
  "kernelspec": {
   "display_name": "Python 3 (ipykernel)",
   "language": "python",
   "name": "python3"
  },
  "language_info": {
   "codemirror_mode": {
    "name": "ipython",
    "version": 3
   },
   "file_extension": ".py",
   "mimetype": "text/x-python",
   "name": "python",
   "nbconvert_exporter": "python",
   "pygments_lexer": "ipython3",
   "version": "3.11.7"
  }
 },
 "nbformat": 4,
 "nbformat_minor": 5
}
